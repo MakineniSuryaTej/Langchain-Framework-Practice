{
 "cells": [
  {
   "cell_type": "code",
   "execution_count": 3,
   "metadata": {},
   "outputs": [
    {
     "data": {
      "text/plain": [
       "True"
      ]
     },
     "execution_count": 3,
     "metadata": {},
     "output_type": "execute_result"
    }
   ],
   "source": [
    "from dotenv import load_dotenv\n",
    "from langchain_openai import ChatOpenAI\n",
    "from langchain.schema import AIMessage, HumanMessage, SystemMessage\n",
    "load_dotenv()"
   ]
  },
  {
   "cell_type": "code",
   "execution_count": 4,
   "metadata": {},
   "outputs": [],
   "source": [
    "model = ChatOpenAI(model=\"gpt-4o\")"
   ]
  },
  {
   "cell_type": "code",
   "execution_count": 5,
   "metadata": {},
   "outputs": [],
   "source": [
    "history = []"
   ]
  },
  {
   "cell_type": "code",
   "execution_count": 6,
   "metadata": {},
   "outputs": [],
   "source": [
    "system_message = SystemMessage(\"You are a helpful AI Assitant and expert in Math\")\n",
    "history.append(system_message)"
   ]
  },
  {
   "cell_type": "code",
   "execution_count": 7,
   "metadata": {},
   "outputs": [
    {
     "name": "stdout",
     "output_type": "stream",
     "text": [
      "AI: The square of 22 is calculated by multiplying 22 by itself:\n",
      "\n",
      "\\[ 22 \\times 22 = 484 \\]\n",
      "\n",
      "So, the square of 22 is 484.\n",
      "AI: Certainly! Here's a step-by-step breakdown of how to calculate \\(22 \\times 22\\):\n",
      "\n",
      "1. **Break it down using place values:**  \n",
      "   \\(22\\) can be written as \\(20 + 2\\). Thus, \\(22 \\times 22\\) can be expanded using the distributive property:\n",
      "\n",
      "   \\[\n",
      "   (20 + 2) \\times (20 + 2) \n",
      "   \\]\n",
      "\n",
      "2. **Apply the distributive property:**  \n",
      "   Expand using the formula \\((a + b)(c + d) = ac + ad + bc + bd\\):\n",
      "\n",
      "   \\[\n",
      "   = (20 \\times 20) + (20 \\times 2) + (2 \\times 20) + (2 \\times 2)\n",
      "   \\]\n",
      "\n",
      "3. **Calculate each product:**\n",
      "\n",
      "   - \\(20 \\times 20 = 400\\)\n",
      "   - \\(20 \\times 2 = 40\\)\n",
      "   - \\(2 \\times 20 = 40\\)\n",
      "   - \\(2 \\times 2 = 4\\)\n",
      "\n",
      "4. **Add all the products together:**\n",
      "\n",
      "   \\[\n",
      "   400 + 40 + 40 + 4 = 484\n",
      "   \\]\n",
      "\n",
      "Thus, the square of 22 is \\(484\\).\n",
      "AI: Of course! To find the square of 30, follow a similar process:\n",
      "\n",
      "1. **Express using place values:**  \n",
      "   \\(30\\) is already straightforward as \\(30 + 0\\).\n",
      "\n",
      "2. **Apply the distributive property:**  \n",
      "   Since \\(30 + 0\\) simplifies directly to \\(30 \\times 30\\):\n",
      "\n",
      "   \\[\n",
      "   (30) \\times (30) = (30 \\times 30)\n",
      "   \\]\n",
      "\n",
      "3. **Perform the multiplication:**\n",
      "\n",
      "   - \\(30 \\times 30 = 900\\)\n",
      "\n",
      "Therefore, the square of 30 is \\(900\\). In this case, because \\(0\\) is being used, the stepwise application of the distributive property is simpler, so direct squaring by recognizing the simple tens multiplication is clear and sufficient.\n"
     ]
    }
   ],
   "source": [
    "while True:\n",
    "    query = input(\"You: \")\n",
    "    if query.lower() == \"exit\":\n",
    "        break\n",
    "    history.append(HumanMessage(content=query))\n",
    "\n",
    "    result = model.invoke(history)\n",
    "    response = result.content\n",
    "    print(f\"AI: {response}\")\n",
    "    history.append(AIMessage(content=response))"
   ]
  },
  {
   "cell_type": "code",
   "execution_count": 12,
   "metadata": {},
   "outputs": [
    {
     "name": "stdout",
     "output_type": "stream",
     "text": [
      "Chat history\n",
      "You are a helpful AI Assitant and expert in Math\n",
      "What is the square of 22\n",
      "The square of 22 is calculated by multiplying 22 by itself:\n",
      "\n",
      "\\[ 22 \\times 22 = 484 \\]\n",
      "\n",
      "So, the square of 22 is 484.\n",
      "Can you tell me how did you calculate it\n",
      "Certainly! Here's a step-by-step breakdown of how to calculate \\(22 \\times 22\\):\n",
      "\n",
      "1. **Break it down using place values:**  \n",
      "   \\(22\\) can be written as \\(20 + 2\\). Thus, \\(22 \\times 22\\) can be expanded using the distributive property:\n",
      "\n",
      "   \\[\n",
      "   (20 + 2) \\times (20 + 2) \n",
      "   \\]\n",
      "\n",
      "2. **Apply the distributive property:**  \n",
      "   Expand using the formula \\((a + b)(c + d) = ac + ad + bc + bd\\):\n",
      "\n",
      "   \\[\n",
      "   = (20 \\times 20) + (20 \\times 2) + (2 \\times 20) + (2 \\times 2)\n",
      "   \\]\n",
      "\n",
      "3. **Calculate each product:**\n",
      "\n",
      "   - \\(20 \\times 20 = 400\\)\n",
      "   - \\(20 \\times 2 = 40\\)\n",
      "   - \\(2 \\times 20 = 40\\)\n",
      "   - \\(2 \\times 2 = 4\\)\n",
      "\n",
      "4. **Add all the products together:**\n",
      "\n",
      "   \\[\n",
      "   400 + 40 + 40 + 4 = 484\n",
      "   \\]\n",
      "\n",
      "Thus, the square of 22 is \\(484\\).\n",
      "Can you do the same for 30\n",
      "Of course! To find the square of 30, follow a similar process:\n",
      "\n",
      "1. **Express using place values:**  \n",
      "   \\(30\\) is already straightforward as \\(30 + 0\\).\n",
      "\n",
      "2. **Apply the distributive property:**  \n",
      "   Since \\(30 + 0\\) simplifies directly to \\(30 \\times 30\\):\n",
      "\n",
      "   \\[\n",
      "   (30) \\times (30) = (30 \\times 30)\n",
      "   \\]\n",
      "\n",
      "3. **Perform the multiplication:**\n",
      "\n",
      "   - \\(30 \\times 30 = 900\\)\n",
      "\n",
      "Therefore, the square of 30 is \\(900\\). In this case, because \\(0\\) is being used, the stepwise application of the distributive property is simpler, so direct squaring by recognizing the simple tens multiplication is clear and sufficient.\n"
     ]
    }
   ],
   "source": [
    "print(\"Chat history\")\n",
    "for msg in history:\n",
    "    print(msg.content, end=\"\\n\")"
   ]
  },
  {
   "cell_type": "code",
   "execution_count": null,
   "metadata": {},
   "outputs": [],
   "source": []
  }
 ],
 "metadata": {
  "kernelspec": {
   "display_name": "Python 3",
   "language": "python",
   "name": "python3"
  },
  "language_info": {
   "codemirror_mode": {
    "name": "ipython",
    "version": 3
   },
   "file_extension": ".py",
   "mimetype": "text/x-python",
   "name": "python",
   "nbconvert_exporter": "python",
   "pygments_lexer": "ipython3",
   "version": "3.12.1"
  }
 },
 "nbformat": 4,
 "nbformat_minor": 2
}
