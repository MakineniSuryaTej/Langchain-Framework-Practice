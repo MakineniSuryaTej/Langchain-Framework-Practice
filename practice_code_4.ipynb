{
 "cells": [
  {
   "cell_type": "code",
   "execution_count": 3,
   "metadata": {},
   "outputs": [
    {
     "data": {
      "text/plain": [
       "True"
      ]
     },
     "execution_count": 3,
     "metadata": {},
     "output_type": "execute_result"
    }
   ],
   "source": [
    "from dotenv import load_dotenv\n",
    "from langchain_openai import ChatOpenAI\n",
    "from langchain_core.prompts import ChatPromptTemplate\n",
    "load_dotenv()"
   ]
  },
  {
   "cell_type": "code",
   "execution_count": 2,
   "metadata": {},
   "outputs": [],
   "source": [
    "llm = ChatOpenAI(model=\"gpt-4\")"
   ]
  },
  {
   "cell_type": "code",
   "execution_count": 4,
   "metadata": {},
   "outputs": [],
   "source": [
    "template = \"Write a {tone} email to {company} expressing interest in the {position} position, mentioning {skill} as the key strength. Keep it in 5 lines max\""
   ]
  },
  {
   "cell_type": "code",
   "execution_count": 6,
   "metadata": {},
   "outputs": [
    {
     "data": {
      "text/plain": [
       "ChatPromptTemplate(input_variables=['company', 'position', 'skill', 'tone'], input_types={}, partial_variables={}, messages=[HumanMessagePromptTemplate(prompt=PromptTemplate(input_variables=['company', 'position', 'skill', 'tone'], input_types={}, partial_variables={}, template='Write a {tone} email to {company} expressing interest in the {position} position, mentioning {skill} as the key strength. Keep it in 5 lines max'), additional_kwargs={})])"
      ]
     },
     "execution_count": 6,
     "metadata": {},
     "output_type": "execute_result"
    }
   ],
   "source": [
    "prompt_template = ChatPromptTemplate.from_template(template=template)\n",
    "prompt_template"
   ]
  },
  {
   "cell_type": "code",
   "execution_count": 7,
   "metadata": {},
   "outputs": [
    {
     "data": {
      "text/plain": [
       "ChatPromptValue(messages=[HumanMessage(content='Write a professional email to Tesla expressing interest in the AI Engineer position, mentioning AI as the key strength. Keep it in 5 lines max', additional_kwargs={}, response_metadata={})])"
      ]
     },
     "execution_count": 7,
     "metadata": {},
     "output_type": "execute_result"
    }
   ],
   "source": [
    "prompt = prompt_template.invoke({\n",
    "    \"tone\": \"professional\",\n",
    "    \"company\": \"Tesla\", \n",
    "    \"position\": \"AI Engineer\",\n",
    "    \"skill\": \"AI\"\n",
    "})\n",
    "prompt"
   ]
  },
  {
   "cell_type": "code",
   "execution_count": 8,
   "metadata": {},
   "outputs": [
    {
     "name": "stdout",
     "output_type": "stream",
     "text": [
      "Subject: Expressing Interest in AI Engineer Position at Tesla\n",
      "\n",
      "Dear Tesla Hiring Team,\n",
      "\n",
      "As an experienced Artificial Intelligence Engineer with extensive experience and a profound interest in AI, an integral part of Tesla's innovations, I am keen to apply for the open AI Engineer position. I am confident my skills and passion align effectively with Tesla's objectives in this role. I eagerly look forward to an opportunity to explore how my expertise can contribute to Tesla’s pioneering AI pursuits.\n",
      "\n",
      "Kind Regards,\n",
      "[Your Name]\n"
     ]
    }
   ],
   "source": [
    "result = llm.invoke(prompt)\n",
    "print(result.content)"
   ]
  },
  {
   "cell_type": "code",
   "execution_count": null,
   "metadata": {},
   "outputs": [],
   "source": []
  }
 ],
 "metadata": {
  "kernelspec": {
   "display_name": "Python 3",
   "language": "python",
   "name": "python3"
  },
  "language_info": {
   "codemirror_mode": {
    "name": "ipython",
    "version": 3
   },
   "file_extension": ".py",
   "mimetype": "text/x-python",
   "name": "python",
   "nbconvert_exporter": "python",
   "pygments_lexer": "ipython3",
   "version": "3.12.1"
  }
 },
 "nbformat": 4,
 "nbformat_minor": 2
}
