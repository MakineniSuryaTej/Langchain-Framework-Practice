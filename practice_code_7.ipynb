{
 "cells": [
  {
   "cell_type": "code",
   "execution_count": 1,
   "metadata": {},
   "outputs": [
    {
     "data": {
      "text/plain": [
       "True"
      ]
     },
     "execution_count": 1,
     "metadata": {},
     "output_type": "execute_result"
    }
   ],
   "source": [
    "from dotenv import load_dotenv\n",
    "from langchain_openai import ChatOpenAI\n",
    "from langchain.schema.output_parser import StrOutputParser\n",
    "from langchain_core.prompts import ChatPromptTemplate\n",
    "from langchain.schema.runnable import RunnableLambda, RunnableParallel\n",
    "load_dotenv()"
   ]
  },
  {
   "cell_type": "code",
   "execution_count": 2,
   "metadata": {},
   "outputs": [],
   "source": [
    "model = ChatOpenAI(model=\"gpt-4o\")"
   ]
  },
  {
   "cell_type": "code",
   "execution_count": 3,
   "metadata": {},
   "outputs": [],
   "source": [
    "summary_template = ChatPromptTemplate.from_messages(\n",
    "    [\n",
    "        (\"system\", \"You are a movie critic\"),\n",
    "        (\"human\", \"Provide a brief summary of the movie {movie_name}\"),\n",
    "    ]\n",
    ")"
   ]
  },
  {
   "cell_type": "code",
   "execution_count": 4,
   "metadata": {},
   "outputs": [],
   "source": [
    "plot_template = ChatPromptTemplate.from_messages(\n",
    "    [\n",
    "        (\"system\", \"You are a movie critic\"),\n",
    "        (\"human\", \"Analyze the plot: {plot}. What are its strengths and weaknesses?\")\n",
    "    ]\n",
    ")"
   ]
  },
  {
   "cell_type": "code",
   "execution_count": 12,
   "metadata": {},
   "outputs": [],
   "source": [
    "character_template = ChatPromptTemplate.from_messages([\n",
    "    (\"system\", \"You are a movie critic\"),\n",
    "    (\"human\", \"Analyze the characters: {character}. What are their strengths and weaknesses?\"),\n",
    "])"
   ]
  },
  {
   "cell_type": "code",
   "execution_count": 6,
   "metadata": {},
   "outputs": [],
   "source": [
    "plot_branch_chain = RunnableLambda(lambda x: plot_template.format_prompt(plot=x)) | model | StrOutputParser()"
   ]
  },
  {
   "cell_type": "code",
   "execution_count": 13,
   "metadata": {},
   "outputs": [],
   "source": [
    "character_branch_chain = RunnableLambda(lambda x: character_template.format_prompt(character=x)) | model | StrOutputParser()"
   ]
  },
  {
   "cell_type": "code",
   "execution_count": 8,
   "metadata": {},
   "outputs": [],
   "source": [
    "def combine_analysis(plot_analysis, character_analysis):\n",
    "    return f\"Plot Analysis: \\n{plot_analysis}\\n\\nCharacter Analysis: \\n{character_analysis}\\n\""
   ]
  },
  {
   "cell_type": "code",
   "execution_count": 14,
   "metadata": {},
   "outputs": [],
   "source": [
    "chain = (\n",
    "    summary_template\n",
    "    | model\n",
    "    | StrOutputParser()\n",
    "    | RunnableParallel(branches={\n",
    "        \"plot\": plot_branch_chain,\n",
    "        \"character\": character_branch_chain\n",
    "    })\n",
    "    | RunnableLambda(lambda x: combine_analysis(x[\"branches\"][\"plot\"], x[\"branches\"][\"character\"]))\n",
    ")"
   ]
  },
  {
   "cell_type": "code",
   "execution_count": 15,
   "metadata": {},
   "outputs": [],
   "source": [
    "reslt = chain.invoke({\"movie_name\": \"Iron Man\"})"
   ]
  },
  {
   "cell_type": "code",
   "execution_count": 16,
   "metadata": {},
   "outputs": [
    {
     "name": "stdout",
     "output_type": "stream",
     "text": [
      "Plot Analysis: \n",
      "\"Iron Man,\" as the inaugural film of the Marvel Cinematic Universe (MCU), possesses several notable strengths and a few weaknesses, both of which contribute to its enduring legacy.\n",
      "\n",
      "**Strengths:**\n",
      "\n",
      "1. **Robert Downey Jr.'s Performance:** One of the greatest strengths of \"Iron Man\" is undoubtedly Robert Downey Jr.'s portrayal of Tony Stark. His charisma, wit, and depth breathe life into a character that could easily have come across as superficial. Downey's ability to balance Stark's arrogance with vulnerability makes the character relatable and endearing.\n",
      "\n",
      "2. **Character Development:** The film does an excellent job of developing Tony Stark's character arc. He transitions from a carefree playboy primarily interested in profit to a responsible hero aware of the ramifications of his actions. This evolution is convincingly portrayed and is central to the film's narrative strength.\n",
      "\n",
      "3. **Special Effects and Action Sequences:** The film's visual effects are top-notch, especially the depiction of the Iron Man suit and its capabilities. The action sequences are well-executed, providing excitement without overshadowing the story.\n",
      "\n",
      "4. **Humor and Tone:** Jon Favreau skillfully balances action with humor, setting a tone that would become a hallmark of the MCU. The humor is organic, often stemming from character personalities and interactions, primarily through Tony Stark's quips and one-liners.\n",
      "\n",
      "5. **World-Building:** \"Iron Man\" lays a solid foundation for the MCU, not only by introducing a compelling protagonist but also by hinting at a larger universe. The inclusion of S.H.I.E.L.D and the post-credits scene with Nick Fury are indicative of careful planning for future interconnected films.\n",
      "\n",
      "**Weaknesses:**\n",
      "\n",
      "1. **Predictable Plot:** While Tony Stark's character arc is compelling, the overall plot follows a somewhat predictable trajectory typical of superhero origin stories. It relies heavily on familiar tropes, such as the hero's redemption and the villain's betrayal.\n",
      "\n",
      "2. **Villain's Development:** Obadiah Stane, as the villain, is not as well-developed or memorable as Tony Stark. His motivations come across as somewhat shallow, and his transformation into a physical threat towards the climax feels rushed. This is a common critique of several early MCU films, where villains were often one-dimensional compared to their heroic counterparts.\n",
      "\n",
      "3. **Pacing Issues:** Some portions of the movie, particularly Stark's captivity and initial escape, feel rushed, which could have benefitted from a deeper exploration of his captivity experience and the impact on his personal transformation.\n",
      "\n",
      "Overall, \"Iron Man\" set a high standard for future entries in the superhero genre, successfully launching a cinematic universe while showcasing a strong, charismatic lead in Robert Downey Jr. Despite its predictable plot and some underdeveloped elements, the film's strengths far outweigh its weaknesses, making it a beloved favorite among fans and critics alike.\n",
      "\n",
      "Character Analysis: \n",
      "**Tony Stark/Iron Man:**\n",
      "\n",
      "*Strengths:*\n",
      "1. **Intelligence and Creativity:** Tony Stark is a genius inventor and engineer. His ability to create the Iron Man suit in captivity using limited resources showcases his exceptional problem-solving skills and technical know-how.\n",
      "2. **Charisma:** Stark's charm and wit make him an engaging and persuasive character, enabling him to navigate complex social and political landscapes. Robert Downey Jr.'s portrayal brings a magnetic energy that makes Stark both relatable and captivating.\n",
      "3. **Resourcefulness:** His quick thinking and adaptability are evident in his ability to construct the makeshift suit while captured, and later in refining it into the sophisticated Iron Man armor.\n",
      "4. **Moral Evolution:** Stark undergoes significant personal growth. Initially a self-centered playboy concerned with wealth and power, he becomes more socially conscious, taking responsibility for his company's past actions and shifting towards altruism.\n",
      "\n",
      "*Weaknesses:*\n",
      "1. **Arrogance:** Stark’s confidence borders on hubris, often leading him into trouble. His initial disregard for the consequences of his weapons and the impact of his company’s dealings highlight his early moral shortcomings.\n",
      "2. **Recklessness:** His impulsive nature can lead to dangerous situations, both in his personal life and when testing unproven technology.\n",
      "3. **Isolation:** Despite his charm, Stark often struggles with interpersonal relationships, alienating those closest to him through his egocentric behavior.\n",
      "4. **Vulnerability to Addiction:** The film subtly hints at Stark’s struggles with substances and self-destructive behavior, complicating his path to heroism.\n",
      "\n",
      "**Obadiah Stane:**\n",
      "\n",
      "*Strengths:*\n",
      "1. **Strategic Manipulation:** Stane is a skilled businessman who effectively manipulates situations to his advantage. His understanding of corporate politics allows him to initially maintain his position of power within Stark Industries.\n",
      "2. **Charisma and Deception:** Initially, Stane portrays himself as a trustworthy mentor and partner to Stark, masking his true intentions and earning trust.\n",
      "3. **Tactical Mind:** He is methodical in his pursuit of power, orchestrating Stark’s capture and the reverse-engineering of the Iron Man suit with strategic precision.\n",
      "\n",
      "*Weaknesses:*\n",
      "1. **Greed:** Stane's insatiable desire for power leads to his downfall. His ambition blinds him to the ethical and personal consequences of his actions.\n",
      "2. **Underestimation of Stark:** Stane underestimates Tony’s ingenuity and moral resolve, allowing Stark to outmaneuver him and thwart his plans.\n",
      "3. **Reliance on Technology:** While adept at using technology to meet his ends, Stane depends too heavily on closing the gap that Stark’s suit has created, ultimately leading to his reliance on an unstable version of the Iron Man technology.\n",
      "4. **Short-Sightedness:** His focus on immediate gains prevents him from seeing the broader implications of his actions, such as destabilizing global peace and his own personal destruction.\n",
      "\n"
     ]
    }
   ],
   "source": [
    "print(reslt)"
   ]
  },
  {
   "cell_type": "code",
   "execution_count": null,
   "metadata": {},
   "outputs": [],
   "source": []
  }
 ],
 "metadata": {
  "kernelspec": {
   "display_name": "Python 3",
   "language": "python",
   "name": "python3"
  },
  "language_info": {
   "codemirror_mode": {
    "name": "ipython",
    "version": 3
   },
   "file_extension": ".py",
   "mimetype": "text/x-python",
   "name": "python",
   "nbconvert_exporter": "python",
   "pygments_lexer": "ipython3",
   "version": "3.12.1"
  }
 },
 "nbformat": 4,
 "nbformat_minor": 2
}
