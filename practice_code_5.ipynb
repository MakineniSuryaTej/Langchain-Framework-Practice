{
 "cells": [
  {
   "cell_type": "code",
   "execution_count": 3,
   "metadata": {},
   "outputs": [
    {
     "data": {
      "text/plain": [
       "True"
      ]
     },
     "execution_count": 3,
     "metadata": {},
     "output_type": "execute_result"
    }
   ],
   "source": [
    "from dotenv import load_dotenv\n",
    "from langchain_openai import ChatOpenAI\n",
    "from langchain.schema.output_parser import StrOutputParser\n",
    "from langchain_core.prompts import ChatPromptTemplate\n",
    "load_dotenv()"
   ]
  },
  {
   "cell_type": "code",
   "execution_count": 4,
   "metadata": {},
   "outputs": [],
   "source": [
    "model = ChatOpenAI(model=\"gpt-4o\")"
   ]
  },
  {
   "cell_type": "code",
   "execution_count": 5,
   "metadata": {},
   "outputs": [
    {
     "data": {
      "text/plain": [
       "ChatPromptTemplate(input_variables=['fact_count', 'topic'], input_types={}, partial_variables={}, messages=[SystemMessagePromptTemplate(prompt=PromptTemplate(input_variables=['topic'], input_types={}, partial_variables={}, template='You are a facts expert who knows facts about {topic}.'), additional_kwargs={}), HumanMessagePromptTemplate(prompt=PromptTemplate(input_variables=['fact_count'], input_types={}, partial_variables={}, template='Tell me {fact_count} facts.'), additional_kwargs={})])"
      ]
     },
     "execution_count": 5,
     "metadata": {},
     "output_type": "execute_result"
    }
   ],
   "source": [
    "messages = [\n",
    "    (\"system\", \"You are a facts expert who knows facts about {topic}.\"),\n",
    "    (\"human\", \"Tell me {fact_count} facts.\"),\n",
    "]\n",
    "prompt_template = ChatPromptTemplate.from_messages(messages)\n",
    "prompt_template"
   ]
  },
  {
   "cell_type": "code",
   "execution_count": 6,
   "metadata": {},
   "outputs": [],
   "source": [
    "chain = prompt_template | model | StrOutputParser()"
   ]
  },
  {
   "cell_type": "code",
   "execution_count": 7,
   "metadata": {},
   "outputs": [],
   "source": [
    "result = chain.invoke({\"topic\":\"space\", \"fact_count\": 4})"
   ]
  },
  {
   "cell_type": "code",
   "execution_count": 8,
   "metadata": {},
   "outputs": [
    {
     "name": "stdout",
     "output_type": "stream",
     "text": [
      "Certainly! Here are four intriguing facts about space:\n",
      "\n",
      "1. **The Vacuum of Space:** Space is a near-perfect vacuum, which means it has exceedingly low density and pressure. This vacuum state results in the absence of an atmosphere, making sound unable to travel as it does on Earth.\n",
      "\n",
      "2. **The Gigantic Sun:** Our Sun accounts for over 99.8% of the total mass of the entire Solar System. It is mainly composed of hydrogen and helium and is about 109 times the diameter of Earth.\n",
      "\n",
      "3. **A Year on Venus:** A single day on Venus (one rotation on its axis) is longer than a year on Venus (one orbit around the Sun). It takes Venus about 243 Earth days to rotate once on its axis but only about 225 Earth days to complete an orbit around the Sun.\n",
      "\n",
      "4. **The Milky Way's Size:** The Milky Way galaxy, which contains our Solar System, is about 100,000 light-years in diameter and contains an estimated 100 to 400 billion stars. It is a barred spiral galaxy, one of billions in the universe.\n",
      "\n",
      "These facts highlight some of the fascinating and extreme conditions we observe in space!\n"
     ]
    }
   ],
   "source": [
    "print(result)"
   ]
  },
  {
   "cell_type": "code",
   "execution_count": 9,
   "metadata": {},
   "outputs": [],
   "source": [
    "result = chain.invoke({\"topic\":\"India\", \"fact_count\": 2})"
   ]
  },
  {
   "cell_type": "code",
   "execution_count": 10,
   "metadata": {},
   "outputs": [
    {
     "name": "stdout",
     "output_type": "stream",
     "text": [
      "Sure! Here are two facts about India:\n",
      "\n",
      "1. **Diverse Languages**: India is incredibly linguistically diverse, with 22 officially recognized languages in the Eighth Schedule of the Indian Constitution. In addition, there are hundreds of other languages and dialects spoken across the country. Hindi is the most widely spoken language, and English is also used extensively in business and government.\n",
      "\n",
      "2. **World's Largest Democracy**: India is the world's largest democracy, with a robust electoral system that encompasses a vast electorate. The Indian general elections involve hundreds of millions of voters, and the country conducts these elections in multiple phases over several weeks to manage logistics and ensure security.\n"
     ]
    }
   ],
   "source": [
    "print(result)"
   ]
  },
  {
   "cell_type": "code",
   "execution_count": null,
   "metadata": {},
   "outputs": [],
   "source": []
  }
 ],
 "metadata": {
  "kernelspec": {
   "display_name": "Python 3",
   "language": "python",
   "name": "python3"
  },
  "language_info": {
   "codemirror_mode": {
    "name": "ipython",
    "version": 3
   },
   "file_extension": ".py",
   "mimetype": "text/x-python",
   "name": "python",
   "nbconvert_exporter": "python",
   "pygments_lexer": "ipython3",
   "version": "3.12.1"
  }
 },
 "nbformat": 4,
 "nbformat_minor": 2
}
